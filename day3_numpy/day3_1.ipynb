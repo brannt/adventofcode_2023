{
 "cells": [
  {
   "cell_type": "code",
   "execution_count": 111,
   "metadata": {},
   "outputs": [],
   "source": [
    "from pathlib import Path\n",
    "import numpy as np\n",
    "from numpy.lib.stride_tricks import sliding_window_view\n",
    "\n",
    "FILENAME = 'input.txt'\n"
   ]
  },
  {
   "cell_type": "code",
   "execution_count": 122,
   "metadata": {},
   "outputs": [
    {
     "data": {
      "text/plain": [
       "array([[0, 0, 0, ..., 0, 0, 0],\n",
       "       [0, 0, 0, ..., 0, 0, 0],\n",
       "       [0, 0, 0, ..., 0, 0, 0],\n",
       "       ...,\n",
       "       [0, 0, 0, ..., 0, 0, 0],\n",
       "       [0, 0, 0, ..., 0, 0, 0],\n",
       "       [0, 0, 0, ..., 0, 0, 0]])"
      ]
     },
     "execution_count": 122,
     "metadata": {},
     "output_type": "execute_result"
    }
   ],
   "source": [
    "\n",
    "# Read input file\n",
    "content = Path(FILENAME).read_text().splitlines()\n",
    "# Create a 2D array\n",
    "content = np.array([list(line) for line in content])\n",
    "# replace '.' with 0 and anything that is not a number with -1\n",
    "content = np.where(content == '.', 0, content)\n",
    "content = np.where(np.char.isdigit(content), content, -1)\n",
    "content = content.astype(int)\n",
    "# add zeros to the left and right of the array to make it easier to check the edges\n",
    "content = np.pad(content, ((1, 1), (1, 1)), 'constant')\n",
    "content\n"
   ]
  },
  {
   "cell_type": "code",
   "execution_count": 123,
   "metadata": {},
   "outputs": [
    {
     "data": {
      "text/plain": [
       "array([[[  1,   6],\n",
       "        [  1,   9]],\n",
       "\n",
       "       [[  1,  12],\n",
       "        [  1,  15]],\n",
       "\n",
       "       [[  1,  23],\n",
       "        [  1,  26]],\n",
       "\n",
       "       ...,\n",
       "\n",
       "       [[140,  87],\n",
       "        [140,  90]],\n",
       "\n",
       "       [[140,  95],\n",
       "        [140,  97]],\n",
       "\n",
       "       [[140, 136],\n",
       "        [140, 139]]])"
      ]
     },
     "execution_count": 123,
     "metadata": {},
     "output_type": "execute_result"
    }
   ],
   "source": [
    "# Get a list of all the adjacent char pairs by row and reshape it to a 2D array of tuples\n",
    "view = sliding_window_view(content, (1, 2))\n",
    "view = view.reshape(view.shape[0], view.shape[1], view.shape[2] * view.shape[3])\n",
    "# Replace -1 with 0 for edge detection\n",
    "edge_detect = np.where(view == -1, 0, view)\n",
    "# Get the sum of each pair and the product of each pair:\n",
    "# - if the sum is > 0 this means that at least one of the two cells contains the number\n",
    "# - if the product is 0 this means that one of the two cells contains 0\n",
    "# - if both conditions are met, this means we detected the 'edge' of a number\n",
    "sums = view.sum(axis=2)\n",
    "prods = view.prod(axis=2)\n",
    "edges = np.logical_and(edge_detect.prod(axis=2) == 0, edge_detect.sum(axis=2) > 0)\n",
    "# List the pairwise coordinates of the edges\n",
    "pairs = np.argwhere(edges).reshape(-1, 2, 2)\n",
    "# Add 1 to both coordinates of each first pair to compensate for the fact that it points to the cell before the edge\n",
    "pairs[:, :, 1] += 1\n",
    "pairs\n"
   ]
  },
  {
   "cell_type": "code",
   "execution_count": 125,
   "metadata": {},
   "outputs": [
    {
     "data": {
      "text/plain": [
       "425607"
      ]
     },
     "execution_count": 125,
     "metadata": {},
     "output_type": "execute_result"
    }
   ],
   "source": [
    "# extract the numbers from the pairs\n",
    "detected = []\n",
    "for pair in pairs:\n",
    "    num = content[pair[0][0], pair[0][1]:pair[1][1]]\n",
    "    surrounding = content[pair[0][0] - 1:pair[1][0] + 2, pair[0][1] - 1:pair[1][1] + 1]\n",
    "    # if any of the cells is -1, the number is adjacent to the symbol\n",
    "    if -1 in surrounding:\n",
    "        # convert the array of digits to a number\n",
    "        num = int(''.join(map(str, num)))\n",
    "        detected.append(num)\n",
    "sum(detected)\n"
   ]
  },
  {
   "cell_type": "code",
   "execution_count": 124,
   "metadata": {},
   "outputs": [
    {
     "data": {
      "text/plain": [
       "((142, 142), (142, 141, 2))"
      ]
     },
     "execution_count": 124,
     "metadata": {},
     "output_type": "execute_result"
    }
   ],
   "source": [
    "content.shape, edge_detect.shape\n"
   ]
  },
  {
   "cell_type": "code",
   "execution_count": null,
   "metadata": {},
   "outputs": [],
   "source": []
  }
 ],
 "metadata": {
  "kernelspec": {
   "display_name": "base",
   "language": "python",
   "name": "python3"
  },
  "language_info": {
   "codemirror_mode": {
    "name": "ipython",
    "version": 3
   },
   "file_extension": ".py",
   "mimetype": "text/x-python",
   "name": "python",
   "nbconvert_exporter": "python",
   "pygments_lexer": "ipython3",
   "version": "3.10.6"
  }
 },
 "nbformat": 4,
 "nbformat_minor": 2
}
