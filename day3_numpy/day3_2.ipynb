{
 "cells": [
  {
   "cell_type": "code",
   "execution_count": 29,
   "metadata": {},
   "outputs": [],
   "source": [
    "from pathlib import Path\n",
    "import numpy as np\n",
    "from numpy.lib.stride_tricks import sliding_window_view\n",
    "\n",
    "FILENAME = 'input.txt'\n"
   ]
  },
  {
   "cell_type": "code",
   "execution_count": 31,
   "metadata": {},
   "outputs": [],
   "source": [
    "def find_gears_sum(array):\n",
    "    array = preprocess_array(array)\n",
    "    number_edges = detect_number_edges(array)\n",
    "    detected, number_indices = extract_numbers(array, number_edges)\n",
    "    mults = find_gears(array, detected, number_indices)\n",
    "    return sum(mults)\n",
    "\n",
    "\n",
    "def preprocess_array(array: np.array):\n",
    "    # replace '*' with -100 and anything that else with -100\n",
    "    array = np.where(np.logical_or(np.char.isnumeric(array), array == '*'), array, -1)\n",
    "    array = np.where(array == '*', -100, array)\n",
    "    array = array.astype(int)\n",
    "    # add zeros to the left and right of the array to make it easier to check the edges\n",
    "    array = np.pad(array, ((1, 1), (1, 1)), 'constant', constant_values=-1)\n",
    "    return array\n",
    "\n",
    "def detect_number_edges(array: np.array):\n",
    "    # Get a list of all the adjacent char pairs by row and reshape it to a 2D array of tuples\n",
    "    view = sliding_window_view(array, (1, 2))\n",
    "    edge_detect = view.reshape(view.shape[0], view.shape[1], view.shape[2] * view.shape[3])\n",
    "    # XOR the two cells to detect edges\n",
    "    edges = np.logical_xor(edge_detect[:, :, 0] >= 0, edge_detect[:, :, 1] >= 0)\n",
    "    # List the pairwise coordinates of the edges\n",
    "    pairs = np.argwhere(edges).reshape(-1, 2, 2)\n",
    "    # Add 1 to both coordinates of each first pair to compensate for the fact that it points to the cell before the edge\n",
    "    pairs[:, :, 1] += 1\n",
    "    return pairs\n",
    "\n",
    "def extract_numbers(array: np.array, number_edges: np.array):\n",
    "    # extract the numbers from the pairs and mark their place with a number number\n",
    "    number_indices = np.where(array >= 0, 1, 0)\n",
    "    detected = []\n",
    "    # TODO: use vectorized operations instead of for loop\n",
    "    for i, pair in enumerate(number_edges, 1):\n",
    "        num = array[pair[0][0], pair[0][1]:pair[1][1]]\n",
    "        number_indices[pair[0][0], pair[0][1]:pair[1][1]] = i\n",
    "        num = int(''.join(map(str, num)))\n",
    "        detected.append(num)\n",
    "    return detected, number_indices\n",
    "\n",
    "def find_gears(array: np.array, detected: list[int], number_indices: np.array):\n",
    "    # find the gears\n",
    "    gears = np.argwhere(array == -100)\n",
    "    mults = []\n",
    "    # TODO: use vectorized operations instead of for loop\n",
    "    for gear in gears:\n",
    "        # check gear adjacent cells\n",
    "        adjacent = number_indices[gear[0] - 1:gear[0] + 2, gear[1] - 1:gear[1] + 2]\n",
    "        adjacent = np.unique(adjacent[adjacent > 0])\n",
    "        if len(adjacent) == 2:\n",
    "            # exactly two numbers are adjacent to the gear\n",
    "            mults.append(detected[adjacent[0] - 1] * detected[adjacent[1] - 1])\n",
    "    return mults"
   ]
  },
  {
   "cell_type": "code",
   "execution_count": 32,
   "metadata": {},
   "outputs": [
    {
     "data": {
      "text/plain": [
       "75220503"
      ]
     },
     "execution_count": 32,
     "metadata": {},
     "output_type": "execute_result"
    }
   ],
   "source": [
    "\n",
    "# Read input file\n",
    "content = Path(FILENAME).read_text().splitlines()\n",
    "# Create a 2D array\n",
    "content = np.array([list(line) for line in content])\n",
    "# replace '.' with 0 and anything that is not a number with -1\n",
    "find_gears_sum(content)\n"
   ]
  },
  {
   "cell_type": "code",
   "execution_count": null,
   "metadata": {},
   "outputs": [],
   "source": []
  }
 ],
 "metadata": {
  "kernelspec": {
   "display_name": "base",
   "language": "python",
   "name": "python3"
  },
  "language_info": {
   "codemirror_mode": {
    "name": "ipython",
    "version": 3
   },
   "file_extension": ".py",
   "mimetype": "text/x-python",
   "name": "python",
   "nbconvert_exporter": "python",
   "pygments_lexer": "ipython3",
   "version": "3.10.10"
  }
 },
 "nbformat": 4,
 "nbformat_minor": 2
}
